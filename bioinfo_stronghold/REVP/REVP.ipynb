{
 "cells": [
  {
   "cell_type": "code",
   "execution_count": 1,
   "id": "optical-focus",
   "metadata": {},
   "outputs": [],
   "source": [
    "from Bio import SeqIO"
   ]
  },
  {
   "cell_type": "code",
   "execution_count": 35,
   "id": "shaped-drama",
   "metadata": {},
   "outputs": [],
   "source": [
    "seq = SeqIO.read('rosalind_revp.txt', 'fasta')"
   ]
  },
  {
   "cell_type": "code",
   "execution_count": 36,
   "id": "assigned-taxation",
   "metadata": {},
   "outputs": [
    {
     "name": "stdout",
     "output_type": "stream",
     "text": [
      "1 4\n",
      "13 4\n",
      "16 4\n",
      "22 4\n",
      "45 4\n",
      "90 4\n",
      "96 4\n",
      "116 4\n",
      "155 4\n",
      "181 4\n",
      "194 4\n",
      "215 4\n",
      "233 4\n",
      "251 4\n",
      "258 4\n",
      "268 4\n",
      "278 4\n",
      "294 4\n",
      "346 4\n",
      "349 4\n",
      "356 4\n",
      "380 4\n",
      "396 4\n",
      "399 4\n",
      "414 4\n",
      "416 4\n",
      "425 4\n",
      "442 4\n",
      "456 4\n",
      "457 4\n",
      "458 4\n",
      "484 4\n",
      "495 4\n",
      "501 4\n",
      "514 4\n",
      "522 4\n",
      "560 4\n",
      "594 4\n",
      "601 4\n",
      "602 4\n",
      "627 4\n",
      "629 4\n",
      "653 4\n",
      "657 4\n",
      "685 4\n",
      "687 4\n",
      "701 4\n",
      "747 4\n",
      "809 4\n",
      "840 4\n",
      "844 4\n",
      "873 4\n",
      "874 4\n",
      "875 4\n",
      "878 4\n",
      "880 4\n",
      "883 4\n",
      "893 4\n",
      "913 4\n",
      "95 6\n",
      "115 6\n",
      "180 6\n",
      "232 6\n",
      "379 6\n",
      "413 6\n",
      "456 6\n",
      "483 6\n",
      "873 6\n",
      "877 6\n",
      "455 8\n",
      "454 10\n",
      "453 12\n"
     ]
    }
   ],
   "source": [
    "for k in range(4, 12 + 1):\n",
    "    for i in range(0,len(seq)):\n",
    "\n",
    "        if i > len(seq) - k :\n",
    "            # do not test for reverse palindrome where there are less than k\n",
    "            # letters at the end if the \n",
    "            break\n",
    "        else:\n",
    "            \n",
    "            t = seq.seq[i:i+k]\n",
    "            #test the equality of the seq and its RC\n",
    "            if t == t.reverse_complement():\n",
    "                print(i + 1, k)"
   ]
  },
  {
   "cell_type": "code",
   "execution_count": null,
   "id": "equivalent-procedure",
   "metadata": {},
   "outputs": [],
   "source": []
  },
  {
   "cell_type": "code",
   "execution_count": null,
   "id": "bacterial-rocket",
   "metadata": {},
   "outputs": [],
   "source": []
  },
  {
   "cell_type": "code",
   "execution_count": null,
   "id": "preceding-detail",
   "metadata": {},
   "outputs": [],
   "source": []
  }
 ],
 "metadata": {
  "kernelspec": {
   "display_name": "Python 3",
   "language": "python",
   "name": "python3"
  },
  "language_info": {
   "codemirror_mode": {
    "name": "ipython",
    "version": 3
   },
   "file_extension": ".py",
   "mimetype": "text/x-python",
   "name": "python",
   "nbconvert_exporter": "python",
   "pygments_lexer": "ipython3",
   "version": "3.9.1"
  }
 },
 "nbformat": 4,
 "nbformat_minor": 5
}
