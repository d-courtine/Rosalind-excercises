{
 "cells": [
  {
   "cell_type": "code",
   "execution_count": 38,
   "id": "buried-default",
   "metadata": {},
   "outputs": [],
   "source": [
    "from Bio import SeqIO"
   ]
  },
  {
   "cell_type": "markdown",
   "id": "discrete-hello",
   "metadata": {},
   "source": [
    "A dictionnary with the correspondance DNA triplet <=> AA"
   ]
  },
  {
   "cell_type": "code",
   "execution_count": 14,
   "id": "united-tourism",
   "metadata": {},
   "outputs": [],
   "source": [
    "codon = {'ATT':'I', 'ATC':'I', 'ATA':'I', 'CTT':'L', 'CTC':'L', 'CTA':'L', 'CTG':'L',\\\n",
    "         'TTA':'L', 'TTG':'L', 'GTT':'V', 'GTC':'V', 'GTA':'V', 'GTG':'V', 'TTT':'F',\\\n",
    "         'TTC':'F', 'ATG':'M', 'TGT':'C', 'TGC':'C', 'GCT':'A', 'GCC':'A', 'GCA':'A',\\\n",
    "         'GCG':'A', 'GGT':'G', 'GGC':'G', 'GGA':'G', 'GGG':'G', 'CCT':'P', 'CCC':'P',\\\n",
    "         'CCA':'P', 'CCG':'P', 'ACT':'T', 'ACC':'T', 'ACA':'T', 'ACG':'T', 'TCT':'S',\\\n",
    "         'TCC':'S', 'TCA':'S', 'TCG':'S', 'AGT':'S', 'AGC':'S', 'TAT':'Y', 'TAC':'Y',\\\n",
    "         'TGG':'W', 'CAA':'Q', 'CAG':'Q', 'AAT':'N', 'AAC':'N', 'CAT':'H', 'CAC':'H',\\\n",
    "         'GAA':'E', 'GAG':'E', 'GAT':'D', 'GAC':'D', 'AAA':'K', 'AAG':'K', 'CGT':'R',\\\n",
    "         'CGC':'R', 'CGA':'R', 'CGG':'R', 'AGA':'R', 'AGG':'R', 'TAA':'X', 'TAG':'X', 'TGA':'X'}"
   ]
  },
  {
   "cell_type": "code",
   "execution_count": 39,
   "id": "unavailable-shoot",
   "metadata": {},
   "outputs": [],
   "source": [
    "def get_codon(triple):\n",
    "    result = ''\n",
    "    if len(triple) == 3:\n",
    "        result = codon[triple.upper()]\n",
    "    return result\n"
   ]
  },
  {
   "cell_type": "code",
   "execution_count": 93,
   "id": "transparent-prefix",
   "metadata": {},
   "outputs": [],
   "source": [
    "record = SeqIO.read('rosalind_orf.txt', 'fasta')"
   ]
  },
  {
   "cell_type": "code",
   "execution_count": 94,
   "id": "scientific-soviet",
   "metadata": {},
   "outputs": [
    {
     "name": "stdout",
     "output_type": "stream",
     "text": [
      "MTGQRL\n",
      "MP\n",
      "MNDA\n",
      "MKLLETGNKGVAFLNRTVVQH\n",
      "MENRSPAV\n",
      "MAYGIRSE\n",
      "MRKTFRLKLTLFKCANKLLNCS\n",
      "MRRSSPDLRHRNTANPHRLTLPLGRGL\n",
      "MRRSAPCDDCTHGLGRLDSIQIWPNE\n",
      "MSPEPGYRKLRNLYPRYAILRRL\n",
      "MYRAPNYNSIIC\n",
      "M\n",
      "MFSVTHSGFHRPSGFCTQLY\n",
      "MESGVSN\n",
      "MPL\n",
      "MIPTSPSSDGGTAVLHNTHETALSRGPRLKASAEWQSQPVRISRISMP\n",
      "MGVSAEPQSGSGRPLPCCPSQATSLARQ\n",
      "MSDAGPLPTSAG\n",
      "MFCA\n",
      "MTVLTGWDV\n",
      "MNSHECGDQPRVMTVLTGWDV\n"
     ]
    }
   ],
   "source": [
    "results = list()\n",
    "\n",
    "#Forward strand, then reverse\n",
    "for dna in [record.seq, record.seq.reverse_complement()]:\n",
    "    # loop to visit the 3 forward frame one by one\n",
    "    for i in [0,1,2]:\n",
    "        # iterate over the DNA triplets, with an offset of i\n",
    "        seq = ''\n",
    "        seq_app = False\n",
    "        for j in range(0 + i, len(dna), 3):\n",
    "            aa = get_codon(dna[j:j+3])\n",
    "\n",
    "            if aa == 'X' and len(seq) > 0: #reach the stop, print and reset variables\n",
    "                results.append(seq)\n",
    "                seq = ''\n",
    "                seq_app = False        \n",
    "\n",
    "            if seq_app: #\"grow\" the sequence\n",
    "                seq += aa        \n",
    "\n",
    "            if aa == 'M' and len(seq) == 0: #start to record the protein\n",
    "                seq += aa\n",
    "                seq_app = True\n",
    "\n",
    "# Remove useless duplicates, like single M proteins\n",
    "results = list(set(results))\n",
    "\n",
    "# browse each ORF to search for \"sub\"-ORF, as what is found in the ROSALIND results...\n",
    "for result in results:\n",
    "#     print(results, result)\n",
    "    if len(result) > 1:\n",
    "        if 'M' in result[1:]: # at least another metionine in the protein\n",
    "            for i in range(1, len(result)):\n",
    "                if result[i] == 'M':\n",
    "                    results.append(result[i:]) #append the new sequence that start at position i, up to the end\n",
    "\n",
    "#Just to make sure that no useless duplication have been done, apply again set() on the results list.\n",
    "results = list(set(results))\n",
    "\n",
    "for i in results:\n",
    "    print(i)"
   ]
  },
  {
   "cell_type": "code",
   "execution_count": null,
   "id": "funded-canada",
   "metadata": {},
   "outputs": [],
   "source": []
  },
  {
   "cell_type": "code",
   "execution_count": null,
   "id": "roman-lafayette",
   "metadata": {},
   "outputs": [],
   "source": []
  },
  {
   "cell_type": "code",
   "execution_count": null,
   "id": "present-petersburg",
   "metadata": {},
   "outputs": [],
   "source": []
  },
  {
   "cell_type": "code",
   "execution_count": null,
   "id": "herbal-terry",
   "metadata": {},
   "outputs": [],
   "source": []
  }
 ],
 "metadata": {
  "kernelspec": {
   "display_name": "Python 3",
   "language": "python",
   "name": "python3"
  },
  "language_info": {
   "codemirror_mode": {
    "name": "ipython",
    "version": 3
   },
   "file_extension": ".py",
   "mimetype": "text/x-python",
   "name": "python",
   "nbconvert_exporter": "python",
   "pygments_lexer": "ipython3",
   "version": "3.9.1"
  }
 },
 "nbformat": 4,
 "nbformat_minor": 5
}
