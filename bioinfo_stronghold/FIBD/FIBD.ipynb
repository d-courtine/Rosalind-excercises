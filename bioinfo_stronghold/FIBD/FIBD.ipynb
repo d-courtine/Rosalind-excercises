{
 "cells": [
  {
   "cell_type": "markdown",
   "id": "fiscal-amount",
   "metadata": {},
   "source": [
    "After some tests with variable values for the _number of month alive_,  have the following generalization:\n",
    "- iterate over the number of months (`i`)\n",
    "    - if `i =< m`: Apply the classical Fibonacci loop\n",
    "    - else: the ith value is: `sum(i-2 + ... + i-m-1)`\n",
    "\n",
    "Use the version with a _cache_ to store the values of previous iterations"
   ]
  },
  {
   "cell_type": "code",
   "execution_count": 54,
   "id": "stylish-regression",
   "metadata": {},
   "outputs": [],
   "source": [
    "\n",
    "def fib_classic(n):\n",
    "    #Value already computed\n",
    "    if n in fib_cache:\n",
    "        return fib_cache[n]\n",
    "    \n",
    "    #compute the nth term\n",
    "    value = 0\n",
    "    if n == 1:\n",
    "        value = 1\n",
    "    elif n == 2:\n",
    "        value = 1\n",
    "    elif n > 2:\n",
    "        value = fib_classic(n-1) + fib_classic(n-2)\n",
    "    \n",
    "    #Store the value\n",
    "    fib_cache[n] = value\n",
    "\n",
    "    return value\n",
    "\n",
    "\n",
    "def fib_with_death(n,m):\n",
    "    #To compute the first m terms of the suite\n",
    "    if n <= m: \n",
    "        value = fib_classic(n)\n",
    "\n",
    "    # compute the number of rabbits taking into account of the decay after m month alive\n",
    "    else:\n",
    "        value = 0\n",
    "        for i in range(n-m, n-1):\n",
    "            value += fib_classic(i)\n",
    "        # Do not forget to store the value, otherwise it is a classic suite...\n",
    "        fib_cache[n] = value\n",
    "\n",
    "        return value\n"
   ]
  },
  {
   "cell_type": "code",
   "execution_count": null,
   "id": "stopped-tattoo",
   "metadata": {},
   "outputs": [],
   "source": []
  },
  {
   "cell_type": "code",
   "execution_count": 71,
   "id": "divided-happening",
   "metadata": {},
   "outputs": [
    {
     "name": "stdout",
     "output_type": "stream",
     "text": [
      "673794932813409350\n"
     ]
    }
   ],
   "source": [
    "fib_cache = dict()\n",
    "\n",
    "n = 87\n",
    "m = 17\n",
    "\n",
    "for n in range(1, n + 1):\n",
    "    fib_with_death(n,m)\n",
    "    \n",
    "    \n",
    "print(fib_cache[n])"
   ]
  },
  {
   "cell_type": "code",
   "execution_count": 72,
   "id": "hydraulic-preserve",
   "metadata": {},
   "outputs": [
    {
     "data": {
      "text/plain": [
       "{1: 1,\n",
       " 2: 1,\n",
       " 3: 2,\n",
       " 4: 3,\n",
       " 5: 5,\n",
       " 6: 8,\n",
       " 7: 13,\n",
       " 8: 21,\n",
       " 9: 34,\n",
       " 10: 55,\n",
       " 11: 89,\n",
       " 12: 144,\n",
       " 13: 233,\n",
       " 14: 377,\n",
       " 15: 610,\n",
       " 16: 987,\n",
       " 17: 1597,\n",
       " 18: 2583,\n",
       " 19: 4179,\n",
       " 20: 6761,\n",
       " 21: 10938,\n",
       " 22: 17696,\n",
       " 23: 28629,\n",
       " 24: 46317,\n",
       " 25: 74933,\n",
       " 26: 121229,\n",
       " 27: 196128,\n",
       " 28: 317302,\n",
       " 29: 513341,\n",
       " 30: 830499,\n",
       " 31: 1343607,\n",
       " 32: 2173729,\n",
       " 33: 3516726,\n",
       " 34: 5689468,\n",
       " 35: 9204597,\n",
       " 36: 14891482,\n",
       " 37: 24091900,\n",
       " 38: 38976621,\n",
       " 39: 63057583,\n",
       " 40: 102016508,\n",
       " 41: 165045462,\n",
       " 42: 267015653,\n",
       " 43: 431986182,\n",
       " 44: 698880606,\n",
       " 45: 1130670660,\n",
       " 46: 1829233964,\n",
       " 47: 2959391283,\n",
       " 48: 4787794748,\n",
       " 49: 7745842424,\n",
       " 50: 12531463443,\n",
       " 51: 20273789141,\n",
       " 52: 32799563116,\n",
       " 53: 53064147660,\n",
       " 54: 85848819294,\n",
       " 55: 138888875054,\n",
       " 56: 224698717727,\n",
       " 57: 363524535198,\n",
       " 58: 588121236417,\n",
       " 59: 951480726153,\n",
       " 60: 1539334946917,\n",
       " 61: 2490383686888,\n",
       " 62: 4029019753199,\n",
       " 63: 6518272769427,\n",
       " 64: 10545463288662,\n",
       " 65: 17060776666806,\n",
       " 66: 27601452160720,\n",
       " 67: 44654482985102,\n",
       " 68: 72243403682379,\n",
       " 69: 116877612878340,\n",
       " 70: 189088216997603,\n",
       " 71: 305912765728283,\n",
       " 72: 494915133906592,\n",
       " 73: 800689010759821,\n",
       " 74: 1295379445948686,\n",
       " 75: 2095704932173309,\n",
       " 76: 3390496256885578,\n",
       " 77: 5485249708332734,\n",
       " 78: 8874206630271395,\n",
       " 79: 14356965954917241,\n",
       " 80: 23227143565435437,\n",
       " 81: 37577591247583251,\n",
       " 82: 60794189349730026,\n",
       " 83: 98354719820646471,\n",
       " 84: 159121307718215777,\n",
       " 85: 257431373055877146,\n",
       " 86: 416480437370410544,\n",
       " 87: 673794932813409350}"
      ]
     },
     "execution_count": 72,
     "metadata": {},
     "output_type": "execute_result"
    }
   ],
   "source": [
    "fib_cache"
   ]
  },
  {
   "cell_type": "code",
   "execution_count": null,
   "id": "normal-asbestos",
   "metadata": {},
   "outputs": [],
   "source": []
  }
 ],
 "metadata": {
  "kernelspec": {
   "display_name": "Python 3",
   "language": "python",
   "name": "python3"
  },
  "language_info": {
   "codemirror_mode": {
    "name": "ipython",
    "version": 3
   },
   "file_extension": ".py",
   "mimetype": "text/x-python",
   "name": "python",
   "nbconvert_exporter": "python",
   "pygments_lexer": "ipython3",
   "version": "3.9.1"
  }
 },
 "nbformat": 4,
 "nbformat_minor": 5
}
