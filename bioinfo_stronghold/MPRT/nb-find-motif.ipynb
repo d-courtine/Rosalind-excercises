{
 "cells": [
  {
   "cell_type": "code",
   "execution_count": 1,
   "id": "fewer-cartoon",
   "metadata": {},
   "outputs": [],
   "source": [
    "import requests as r\n",
    "from Bio import SeqIO\n",
    "from Bio.Seq import Seq\n",
    "from Bio.SeqRecord import SeqRecord\n",
    "import re\n",
    "import time\n",
    "import collections"
   ]
  },
  {
   "cell_type": "markdown",
   "id": "restricted-matrix",
   "metadata": {},
   "source": [
    "motif: _N{P}[ST]{P}_\n",
    "\n",
    "- N\n",
    "- not a P\n",
    "- S or T\n",
    "- not a P\n",
    "\n",
    "All AA for the RE: \n",
    "\n",
    "- GPAVLIMCFYWHKRQNEDST\n",
    "\n",
    "**Note**: Do not use RegEx, or use it in a way that allows some _lookaround_, meaning that the motifs can overlap!"
   ]
  },
  {
   "cell_type": "code",
   "execution_count": 42,
   "id": "critical-instrumentation",
   "metadata": {},
   "outputs": [],
   "source": [
    "# infile = 'test.txt'\n",
    "infile = 'rosalind_mprt.txt'\n",
    "res = collections.OrderedDict(dict())\n",
    "\n",
    "#Main loop\n",
    "with open(infile, 'r') as f:\n",
    "    lines = f.readlines()\n",
    "    for line in lines:\n",
    "        \n",
    "        #Get the protein from the UniProt ID\n",
    "        ID = line.rstrip()\n",
    "\n",
    "        uniprot = \"http://www.uniprot.org/uniprot/\"\n",
    "\n",
    "        protein_url = uniprot + ID + '.fasta'\n",
    "        response = r.get(protein_url)\n",
    "\n",
    "        seq_ID = response.text.split('\\n')[0]\n",
    "        seq_SEQ= ''.join(response.text.split('\\n')[1:-1])\n",
    "\n",
    "        prot = SeqRecord(id = seq_ID, seq = seq_SEQ, name = ID)\n",
    "\n",
    "#         # REGEX -- DO NOT WORK!!\n",
    "#         pattern = \"N[^P][ST][^P]\"\n",
    "        res[prot.name] = list() #setup the storage\n",
    "#         all_match = re.finditer(pattern, prot.seq)\n",
    "#         for i in all_match:\n",
    "#             res[prot.name].append(str(i.start() + 1)) # to convert the result in 1-base\n",
    "            \n",
    "        for i in range(0,len(prot.seq)):\n",
    "\n",
    "            #do not test the 3 last positions:\n",
    "            if i == len(prot.seq) - 3:\n",
    "                break\n",
    "\n",
    "            #manual test for the pattern with nested conditions\n",
    "            if prot.seq[i] == 'N':\n",
    "                if prot.seq[i+1] != 'P':\n",
    "                    if prot.seq[i+2] in 'ST':\n",
    "                        if prot.seq[i+3] != 'P':\n",
    "                            #finally!\n",
    "                            res[prot.name].append(str(i + 1))\n",
    "            \n",
    "        # Wait to avoid HTTP bad request or other side effect \n",
    "        time.sleep(5) \n",
    "\n"
   ]
  },
  {
   "cell_type": "code",
   "execution_count": 43,
   "id": "pharmaceutical-continent",
   "metadata": {},
   "outputs": [
    {
     "name": "stdout",
     "output_type": "stream",
     "text": [
      "Q8LCP6\n",
      "259 464 484\n",
      "A9M5H3\n",
      "133\n",
      "Q68J42\n",
      "198 243\n",
      "P80069_A45K_MYCBO\n",
      "7 161\n",
      "P13838_LEUK_RAT\n",
      "274 300\n",
      "Q60960\n",
      "16 140 336 364 406 461\n",
      "P21809_PGS1_BOVIN\n",
      "271 312\n",
      "P10761_ZP3_MOUSE\n",
      "146 273 304 327 330\n",
      "P01217_GLHA_BOVIN\n",
      "80 106\n"
     ]
    }
   ],
   "source": [
    "# Print the result\n",
    "for p,pos in res.items():\n",
    "    if len(pos) > 0:\n",
    "        print(p)\n",
    "        print(' '.join(pos))"
   ]
  },
  {
   "cell_type": "code",
   "execution_count": null,
   "id": "aging-grammar",
   "metadata": {},
   "outputs": [],
   "source": []
  },
  {
   "cell_type": "code",
   "execution_count": null,
   "id": "light-courage",
   "metadata": {},
   "outputs": [],
   "source": []
  },
  {
   "cell_type": "code",
   "execution_count": null,
   "id": "intermediate-richards",
   "metadata": {},
   "outputs": [],
   "source": []
  },
  {
   "cell_type": "code",
   "execution_count": null,
   "id": "norwegian-poster",
   "metadata": {},
   "outputs": [],
   "source": []
  }
 ],
 "metadata": {
  "kernelspec": {
   "display_name": "Python 3",
   "language": "python",
   "name": "python3"
  },
  "language_info": {
   "codemirror_mode": {
    "name": "ipython",
    "version": 3
   },
   "file_extension": ".py",
   "mimetype": "text/x-python",
   "name": "python",
   "nbconvert_exporter": "python",
   "pygments_lexer": "ipython3",
   "version": "3.9.1"
  }
 },
 "nbformat": 4,
 "nbformat_minor": 5
}
