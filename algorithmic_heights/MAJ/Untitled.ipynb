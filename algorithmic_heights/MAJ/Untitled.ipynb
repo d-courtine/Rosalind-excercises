{
 "cells": [
  {
   "cell_type": "markdown",
   "metadata": {},
   "source": [
    "# ROSALIND - Majority element\n",
    "\n",
    ">An array A[1..n] is said to have a majority element if more than half of its entries are the same.  \n",
    ">Given: A positive integer k≤20, a positive integer n≤10^4, and k arrays of size n containing positive integers not exceeding 10ˆ5  \n",
    ">Return: For each array, output an element of this array occurring strictly more than n/2 times if such element exists, and \"-1\" otherwise."
   ]
  },
  {
   "cell_type": "code",
   "execution_count": 9,
   "metadata": {},
   "outputs": [],
   "source": [
    "import collections"
   ]
  },
  {
   "cell_type": "code",
   "execution_count": 42,
   "metadata": {},
   "outputs": [],
   "source": [
    "def majorityElement(nums):\n",
    "    counts = collections.Counter(nums)\n",
    "    \n",
    "    maxkey = max(counts.keys(), key=counts.get)\n",
    "    if maxkey <= len(nums)//2:\n",
    "        maxkey = -1\n",
    "    return maxkey"
   ]
  },
  {
   "cell_type": "code",
   "execution_count": 61,
   "metadata": {},
   "outputs": [
    {
     "name": "stdout",
     "output_type": "stream",
     "text": [
      "6362 7725 8276 4638 9357 -1 9825 4583 6211 8426 -1 9954 7585 5873 -1 -1 9198 \n",
      "6362 7725 8276 4638 9357 -1 9825 4583 6211 8426 -1 9954 7585 5873 -1 -1 9198 "
     ]
    }
   ],
   "source": [
    "# test = open('test.txt', 'r')\n",
    "test = open('rosalind_maj.txt', 'r')\n",
    "\n",
    "k,n = test.readline().rstrip().split(' ')\n",
    "k = int(k)\n",
    "n = int(n)\n",
    "lines = test.readlines()\n",
    "results = list()\n",
    "\n",
    "for i in range(k):\n",
    "    table = lines[i].rstrip().split(' ')\n",
    "\n",
    "    #convert str to int\n",
    "    table = list(map(int, table))\n",
    "    \n",
    "    # ...\n",
    "    results.append(majorityElement(table))\n",
    "\n",
    "# print(results)\n",
    "\n",
    "[print(i, end=\" \") for i in results]\n",
    "print()\n",
    "\n",
    "for i in results:\n",
    "    print(i, end = \" \")"
   ]
  },
  {
   "cell_type": "code",
   "execution_count": null,
   "metadata": {},
   "outputs": [],
   "source": []
  }
 ],
 "metadata": {
  "kernelspec": {
   "display_name": "Python 3",
   "language": "python",
   "name": "python3"
  },
  "language_info": {
   "codemirror_mode": {
    "name": "ipython",
    "version": 3
   },
   "file_extension": ".py",
   "mimetype": "text/x-python",
   "name": "python",
   "nbconvert_exporter": "python",
   "pygments_lexer": "ipython3",
   "version": "3.6.8"
  }
 },
 "nbformat": 4,
 "nbformat_minor": 2
}
