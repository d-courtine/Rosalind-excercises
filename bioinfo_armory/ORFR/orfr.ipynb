{
 "cells": [
  {
   "cell_type": "code",
   "execution_count": 1,
   "id": "compact-florist",
   "metadata": {},
   "outputs": [],
   "source": [
    "from Bio import SeqIO"
   ]
  },
  {
   "cell_type": "code",
   "execution_count": 7,
   "id": "marked-casino",
   "metadata": {},
   "outputs": [],
   "source": [
    "codon = {'ATT':'I', 'ATC':'I', 'ATA':'I', 'CTT':'L', 'CTC':'L', 'CTA':'L', 'CTG':'L',\\\n",
    "         'TTA':'L', 'TTG':'L', 'GTT':'V', 'GTC':'V', 'GTA':'V', 'GTG':'V', 'TTT':'F',\\\n",
    "         'TTC':'F', 'ATG':'M', 'TGT':'C', 'TGC':'C', 'GCT':'A', 'GCC':'A', 'GCA':'A',\\\n",
    "         'GCG':'A', 'GGT':'G', 'GGC':'G', 'GGA':'G', 'GGG':'G', 'CCT':'P', 'CCC':'P',\\\n",
    "         'CCA':'P', 'CCG':'P', 'ACT':'T', 'ACC':'T', 'ACA':'T', 'ACG':'T', 'TCT':'S',\\\n",
    "         'TCC':'S', 'TCA':'S', 'TCG':'S', 'AGT':'S', 'AGC':'S', 'TAT':'Y', 'TAC':'Y',\\\n",
    "         'TGG':'W', 'CAA':'Q', 'CAG':'Q', 'AAT':'N', 'AAC':'N', 'CAT':'H', 'CAC':'H',\\\n",
    "         'GAA':'E', 'GAG':'E', 'GAT':'D', 'GAC':'D', 'AAA':'K', 'AAG':'K', 'CGT':'R',\\\n",
    "         'CGC':'R', 'CGA':'R', 'CGG':'R', 'AGA':'R', 'AGG':'R', 'TAA':'X', 'TAG':'X', 'TGA':'X'}"
   ]
  },
  {
   "cell_type": "code",
   "execution_count": 8,
   "id": "professional-input",
   "metadata": {},
   "outputs": [],
   "source": [
    "def get_codon(triple):\n",
    "    result = ''\n",
    "    if len(triple) == 3:\n",
    "        result = codon[triple.upper()]\n",
    "    return result"
   ]
  },
  {
   "cell_type": "code",
   "execution_count": 50,
   "id": "accessory-reporter",
   "metadata": {},
   "outputs": [],
   "source": [
    "# in_seq = SeqIO.read('test.fa', 'fasta')\n",
    "in_seq = SeqIO.read('rosalind_orfr.txt', 'fasta')"
   ]
  },
  {
   "cell_type": "code",
   "execution_count": 51,
   "id": "bright-growth",
   "metadata": {},
   "outputs": [
    {
     "name": "stdout",
     "output_type": "stream",
     "text": [
      "MRVPRSNTSGLASLSLAYGRKDHECERVLAAPGGLGFIGRAHHDAGRTWERAFRVGEIHKRPVHLGDVTTGSSTPPGARVKPSALLGCSCFYLCRPS\n"
     ]
    }
   ],
   "source": [
    "results = list()\n",
    "\n",
    "### Forward strand, then reverse\n",
    "for dna in [in_seq.seq, in_seq.seq.reverse_complement()]:\n",
    "    # loop to visit the 3 forward frame one by one\n",
    "    for i in [0,1,2]:\n",
    "        # iterate over the DNA triplets, with an offset of i\n",
    "        seq = ''\n",
    "        seq_app = False\n",
    "        for j in range(0 + i, len(dna), 3):\n",
    "            aa = get_codon(dna[j:j+3])\n",
    "\n",
    "            if aa == 'X' and len(seq) > 0: #reach the stop, print and reset variables\n",
    "                results.append(seq)\n",
    "                seq = ''\n",
    "                seq_app = False        \n",
    "\n",
    "            if seq_app: #\"grow\" the sequence\n",
    "                seq += aa        \n",
    "\n",
    "            if aa == 'M' and len(seq) == 0: #start to record the protein\n",
    "                seq += aa\n",
    "                seq_app = True\n",
    "\n",
    "### Remove useless duplicates, like single M proteins\n",
    "results = list(set(results))\n",
    "\n",
    "### Get the longest proteins\n",
    "list_of_len = list() # store the length of all proteins found\n",
    "for prot in results:\n",
    "    list_of_len.append(len(prot))\n",
    "list_of_len.sort(reverse = True) #sort the length in decrease order\n",
    "\n",
    "longest_prot = 0 #size of the longest protein(s)\n",
    "\n",
    "for i in range(1,len(list_of_len)):\n",
    "    if list_of_len[i] < list_of_len[i-1]:\n",
    "        # like the length are ordered in decreasing order, check the highest number.\n",
    "        # The same number can be present several times\n",
    "        longest_prot = list_of_len[i-1]\n",
    "        break\n",
    "\n",
    "# browse the proteins and print the one that have the same length as the value in `longest_prot`\n",
    "for prot in results:\n",
    "    if len(prot) == longest_prot:\n",
    "        print(prot)\n"
   ]
  },
  {
   "cell_type": "code",
   "execution_count": null,
   "id": "necessary-bottle",
   "metadata": {},
   "outputs": [],
   "source": []
  },
  {
   "cell_type": "code",
   "execution_count": null,
   "id": "vertical-reset",
   "metadata": {},
   "outputs": [],
   "source": []
  },
  {
   "cell_type": "code",
   "execution_count": null,
   "id": "contrary-sellers",
   "metadata": {},
   "outputs": [],
   "source": []
  },
  {
   "cell_type": "code",
   "execution_count": null,
   "id": "orange-heading",
   "metadata": {},
   "outputs": [],
   "source": []
  }
 ],
 "metadata": {
  "kernelspec": {
   "display_name": "Python 3",
   "language": "python",
   "name": "python3"
  },
  "language_info": {
   "codemirror_mode": {
    "name": "ipython",
    "version": 3
   },
   "file_extension": ".py",
   "mimetype": "text/x-python",
   "name": "python",
   "nbconvert_exporter": "python",
   "pygments_lexer": "ipython3",
   "version": "3.9.1"
  }
 },
 "nbformat": 4,
 "nbformat_minor": 5
}
