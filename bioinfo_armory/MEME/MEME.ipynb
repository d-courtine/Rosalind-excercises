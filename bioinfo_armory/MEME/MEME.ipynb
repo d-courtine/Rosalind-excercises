{
 "cells": [
  {
   "cell_type": "code",
   "execution_count": 1,
   "id": "abroad-behavior",
   "metadata": {},
   "outputs": [],
   "source": [
    "import xml.etree.ElementTree as ET"
   ]
  },
  {
   "cell_type": "markdown",
   "id": "proper-lesbian",
   "metadata": {},
   "source": [
    "Run the MEME tool from a Docker container obtained here: [https://hub.docker.com/r/memesuite/memesuite](https://hub.docker.com/r/memesuite/memesuite)\n"
   ]
  },
  {
   "cell_type": "code",
   "execution_count": 134,
   "id": "intensive-booth",
   "metadata": {},
   "outputs": [],
   "source": [
    "%%bash\n",
    "\n",
    "bash run.sh rosalind_meme.txt"
   ]
  },
  {
   "cell_type": "code",
   "execution_count": 135,
   "id": "useful-scheme",
   "metadata": {},
   "outputs": [
    {
     "name": "stdout",
     "output_type": "stream",
     "text": [
      "LEGIVWPE[RSW][PR]D[EG]KYMERQCETWQCLNMWMHQTHPQYR\n"
     ]
    }
   ],
   "source": [
    "# filename = \"rosalind_meme.xml\"\n",
    "filename = \"meme_res/meme.xml\"\n",
    "motifs = ET.parse(filename)\n",
    "\n",
    "result = list() #result stored as a list of lists\n",
    "\n",
    "for m in motifs.iter('motif'):\n",
    "    #go to the first motifs, as it is the one with the highest score\n",
    "    if m.attrib['id'] == 'motif_1':\n",
    "        \n",
    "        # directly go to the sub-child shown bellow\n",
    "        prob = m.findall('probabilities/alphabet_matrix/alphabet_array')\n",
    "\n",
    "        for i in prob:\n",
    "            #iterate over the motif position\n",
    "            count += 1\n",
    "            temp = list()\n",
    "            for child in i.iter('value'):\n",
    "                # iterate over the 20 letters available for the motif (20 AA)\n",
    "                \n",
    "                if float(child.text) == 1:\n",
    "                    #When the probability is 1, save the current letter\n",
    "                    temp.append(child.attrib['letter_id'])\n",
    "\n",
    "                elif float(child.text) > 0:\n",
    "                    # When the proba is shared across several \n",
    "                    temp.append(child.attrib['letter_id'])\n",
    "            # save the result\n",
    "            result.append(temp)\n",
    "\n",
    "# print the result Motif\n",
    "final = str()\n",
    "for l in result:\n",
    "    if len(l) == 1:\n",
    "        final += l[0]\n",
    "    else:\n",
    "        final += '[' + ''.join(l) + ']'\n",
    "print(final)"
   ]
  },
  {
   "cell_type": "code",
   "execution_count": null,
   "id": "violent-shanghai",
   "metadata": {},
   "outputs": [],
   "source": []
  },
  {
   "cell_type": "code",
   "execution_count": null,
   "id": "particular-czech",
   "metadata": {},
   "outputs": [],
   "source": []
  },
  {
   "cell_type": "code",
   "execution_count": null,
   "id": "lined-catch",
   "metadata": {},
   "outputs": [],
   "source": []
  },
  {
   "cell_type": "code",
   "execution_count": null,
   "id": "orange-estonia",
   "metadata": {},
   "outputs": [],
   "source": []
  },
  {
   "cell_type": "code",
   "execution_count": null,
   "id": "extended-villa",
   "metadata": {},
   "outputs": [],
   "source": []
  }
 ],
 "metadata": {
  "kernelspec": {
   "display_name": "Python 3",
   "language": "python",
   "name": "python3"
  },
  "language_info": {
   "codemirror_mode": {
    "name": "ipython",
    "version": 3
   },
   "file_extension": ".py",
   "mimetype": "text/x-python",
   "name": "python",
   "nbconvert_exporter": "python",
   "pygments_lexer": "ipython3",
   "version": "3.9.1"
  }
 },
 "nbformat": 4,
 "nbformat_minor": 5
}
